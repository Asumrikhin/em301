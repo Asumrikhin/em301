{
 "cells": [
  {
   "cell_type": "code",
   "execution_count": 51,
   "metadata": {
    "collapsed": false
   },
   "outputs": [],
   "source": [
    "library(\"dplyr\")\n",
    "library(\"glmnet\")\n",
    "library(\"car\")\n",
    "library(\"ggplot2\")"
   ]
  },
  {
   "cell_type": "markdown",
   "metadata": {},
   "source": [
    "OLS:\n",
    "\n",
    "$$RSS \\to \\min_{\\hat\\beta}$$\n",
    "\n",
    "LASSO:\n",
    "\n",
    "$$RSS + \\lambda \\sum |\\hat\\beta_j| \\to \\min_{\\hat\\beta}$$\n",
    "\n",
    "Ridge regression (гребневая регрессия):\n",
    "\n",
    "$$RSS + \\lambda \\sum \\hat\\beta_j^2 \\to \\min_{\\hat\\beta}$$"
   ]
  },
  {
   "cell_type": "code",
   "execution_count": 52,
   "metadata": {
    "collapsed": false
   },
   "outputs": [
    {
     "data": {
      "text/html": [
       "<table>\n",
       "<thead><tr><th></th><th scope=col>speed</th><th scope=col>dist</th></tr></thead>\n",
       "<tbody>\n",
       "\t<tr><th scope=row>1</th><td>4</td><td>2</td></tr>\n",
       "\t<tr><th scope=row>2</th><td>4</td><td>10</td></tr>\n",
       "\t<tr><th scope=row>3</th><td>7</td><td>4</td></tr>\n",
       "\t<tr><th scope=row>4</th><td>7</td><td>22</td></tr>\n",
       "\t<tr><th scope=row>5</th><td>8</td><td>16</td></tr>\n",
       "\t<tr><th scope=row>6</th><td>9</td><td>10</td></tr>\n",
       "</tbody>\n",
       "</table>\n"
      ],
      "text/latex": [
       "\\begin{tabular}{r|ll}\n",
       "  & speed & dist\\\\\n",
       "\\hline\n",
       "\t1 & 4 & 2\\\\\n",
       "\t2 & 4 & 10\\\\\n",
       "\t3 & 7 & 4\\\\\n",
       "\t4 & 7 & 22\\\\\n",
       "\t5 & 8 & 16\\\\\n",
       "\t6 & 9 & 10\\\\\n",
       "\\end{tabular}\n"
      ],
      "text/plain": [
       "  speed dist\n",
       "1     4    2\n",
       "2     4   10\n",
       "3     7    4\n",
       "4     7   22\n",
       "5     8   16\n",
       "6     9   10"
      ]
     },
     "execution_count": 52,
     "metadata": {},
     "output_type": "execute_result"
    }
   ],
   "source": [
    "head(cars)"
   ]
  },
  {
   "cell_type": "markdown",
   "metadata": {},
   "source": [
    "Искусственно добавим квадрат и куб скорости :)"
   ]
  },
  {
   "cell_type": "code",
   "execution_count": 53,
   "metadata": {
    "collapsed": true
   },
   "outputs": [],
   "source": [
    "cars2 <- mutate(cars, speed2 = speed^2, \n",
    "                speed3 = speed^3)"
   ]
  },
  {
   "cell_type": "code",
   "execution_count": 54,
   "metadata": {
    "collapsed": false
   },
   "outputs": [
    {
     "data": {
      "text/html": [
       "<table>\n",
       "<thead><tr><th></th><th scope=col>speed</th><th scope=col>dist</th><th scope=col>speed2</th><th scope=col>speed3</th></tr></thead>\n",
       "<tbody>\n",
       "\t<tr><th scope=row>1</th><td>4</td><td>2</td><td>16</td><td>64</td></tr>\n",
       "\t<tr><th scope=row>2</th><td>4</td><td>10</td><td>16</td><td>64</td></tr>\n",
       "\t<tr><th scope=row>3</th><td>7</td><td>4</td><td>49</td><td>343</td></tr>\n",
       "\t<tr><th scope=row>4</th><td>7</td><td>22</td><td>49</td><td>343</td></tr>\n",
       "\t<tr><th scope=row>5</th><td>8</td><td>16</td><td>64</td><td>512</td></tr>\n",
       "\t<tr><th scope=row>6</th><td>9</td><td>10</td><td>81</td><td>729</td></tr>\n",
       "</tbody>\n",
       "</table>\n"
      ],
      "text/latex": [
       "\\begin{tabular}{r|llll}\n",
       "  & speed & dist & speed2 & speed3\\\\\n",
       "\\hline\n",
       "\t1 & 4 & 2 & 16 & 64\\\\\n",
       "\t2 & 4 & 10 & 16 & 64\\\\\n",
       "\t3 & 7 & 4 & 49 & 343\\\\\n",
       "\t4 & 7 & 22 & 49 & 343\\\\\n",
       "\t5 & 8 & 16 & 64 & 512\\\\\n",
       "\t6 & 9 & 10 & 81 & 729\\\\\n",
       "\\end{tabular}\n"
      ],
      "text/plain": [
       "  speed dist speed2 speed3\n",
       "1     4    2     16     64\n",
       "2     4   10     16     64\n",
       "3     7    4     49    343\n",
       "4     7   22     49    343\n",
       "5     8   16     64    512\n",
       "6     9   10     81    729"
      ]
     },
     "execution_count": 54,
     "metadata": {},
     "output_type": "execute_result"
    }
   ],
   "source": [
    "head(cars2)"
   ]
  },
  {
   "cell_type": "code",
   "execution_count": 55,
   "metadata": {
    "collapsed": true
   },
   "outputs": [],
   "source": [
    "model_0 <- lm(data = cars2, \n",
    "              dist ~ speed + speed2 + speed3)"
   ]
  },
  {
   "cell_type": "code",
   "execution_count": 56,
   "metadata": {
    "collapsed": false
   },
   "outputs": [
    {
     "data": {
      "text/plain": [
       "\n",
       "Call:\n",
       "lm(formula = dist ~ speed + speed2 + speed3, data = cars2)\n",
       "\n",
       "Residuals:\n",
       "    Min      1Q  Median      3Q     Max \n",
       "-26.670  -9.601  -2.231   7.075  44.691 \n",
       "\n",
       "Coefficients:\n",
       "             Estimate Std. Error t value Pr(>|t|)\n",
       "(Intercept) -19.50505   28.40530  -0.687    0.496\n",
       "speed         6.80111    6.80113   1.000    0.323\n",
       "speed2       -0.34966    0.49988  -0.699    0.488\n",
       "speed3        0.01025    0.01130   0.907    0.369\n",
       "\n",
       "Residual standard error: 15.2 on 46 degrees of freedom\n",
       "Multiple R-squared:  0.6732,\tAdjusted R-squared:  0.6519 \n",
       "F-statistic: 31.58 on 3 and 46 DF,  p-value: 3.074e-11\n"
      ]
     },
     "execution_count": 56,
     "metadata": {},
     "output_type": "execute_result"
    }
   ],
   "source": [
    "summary(model_0)"
   ]
  },
  {
   "cell_type": "code",
   "execution_count": 57,
   "metadata": {
    "collapsed": false
   },
   "outputs": [
    {
     "data": {
      "text/html": [
       "<table>\n",
       "<thead><tr><th></th><th scope=col>(Intercept)</th><th scope=col>speed</th><th scope=col>speed2</th><th scope=col>speed3</th></tr></thead>\n",
       "<tbody>\n",
       "\t<tr><th scope=row>1</th><td> 1</td><td> 4</td><td>16</td><td>64</td></tr>\n",
       "\t<tr><th scope=row>2</th><td> 1</td><td> 4</td><td>16</td><td>64</td></tr>\n",
       "\t<tr><th scope=row>3</th><td>  1</td><td>  7</td><td> 49</td><td>343</td></tr>\n",
       "\t<tr><th scope=row>4</th><td>  1</td><td>  7</td><td> 49</td><td>343</td></tr>\n",
       "\t<tr><th scope=row>5</th><td>  1</td><td>  8</td><td> 64</td><td>512</td></tr>\n",
       "\t<tr><th scope=row>6</th><td>  1</td><td>  9</td><td> 81</td><td>729</td></tr>\n",
       "</tbody>\n",
       "</table>\n"
      ],
      "text/latex": [
       "\\begin{tabular}{r|llll}\n",
       "  & (Intercept) & speed & speed2 & speed3\\\\\n",
       "\\hline\n",
       "\t1 &  1 &  4 & 16 & 64\\\\\n",
       "\t2 &  1 &  4 & 16 & 64\\\\\n",
       "\t3 &   1 &   7 &  49 & 343\\\\\n",
       "\t4 &   1 &   7 &  49 & 343\\\\\n",
       "\t5 &   1 &   8 &  64 & 512\\\\\n",
       "\t6 &   1 &   9 &  81 & 729\\\\\n",
       "\\end{tabular}\n"
      ],
      "text/markdown": [
       "1. 1\n",
       "2. 1\n",
       "3. 1\n",
       "4. 1\n",
       "5. 1\n",
       "6. 1\n",
       "7. 4\n",
       "8. 4\n",
       "9. 7\n",
       "10. 7\n",
       "11. 8\n",
       "12. 9\n",
       "13. 16\n",
       "14. 16\n",
       "15. 49\n",
       "16. 49\n",
       "17. 64\n",
       "18. 81\n",
       "19. 64\n",
       "20. 64\n",
       "21. 343\n",
       "22. 343\n",
       "23. 512\n",
       "24. 729\n",
       "\n",
       "\n"
      ],
      "text/plain": [
       "  (Intercept) speed speed2 speed3\n",
       "1           1     4     16     64\n",
       "2           1     4     16     64\n",
       "3           1     7     49    343\n",
       "4           1     7     49    343\n",
       "5           1     8     64    512\n",
       "6           1     9     81    729"
      ]
     },
     "execution_count": 57,
     "metadata": {},
     "output_type": "execute_result"
    }
   ],
   "source": [
    "X <- model.matrix(data = cars2,\n",
    "                 ~ speed + speed2 + speed3)\n",
    "head(X)"
   ]
  },
  {
   "cell_type": "markdown",
   "metadata": {},
   "source": [
    "Собственные числа матрицы $X'X$:"
   ]
  },
  {
   "cell_type": "code",
   "execution_count": 58,
   "metadata": {
    "collapsed": false
   },
   "outputs": [
    {
     "data": {
      "text/html": [
       "<ol class=list-inline>\n",
       "\t<li>2080900281.24671</li>\n",
       "\t<li>158619.326503518</li>\n",
       "\t<li>73.1548754933145</li>\n",
       "\t<li>0.271912965116043</li>\n",
       "</ol>\n"
      ],
      "text/latex": [
       "\\begin{enumerate*}\n",
       "\\item 2080900281.24671\n",
       "\\item 158619.326503518\n",
       "\\item 73.1548754933145\n",
       "\\item 0.271912965116043\n",
       "\\end{enumerate*}\n"
      ],
      "text/markdown": [
       "1. 2080900281.24671\n",
       "2. 158619.326503518\n",
       "3. 73.1548754933145\n",
       "4. 0.271912965116043\n",
       "\n",
       "\n"
      ],
      "text/plain": [
       "[1] 2.080900e+09 1.586193e+05 7.315488e+01 2.719130e-01"
      ]
     },
     "execution_count": 58,
     "metadata": {},
     "output_type": "execute_result"
    }
   ],
   "source": [
    "XX <- crossprod(X) # X'X # t(X) %*% X\n",
    "lambda <- eigen(XX)$values\n",
    "lambda"
   ]
  },
  {
   "cell_type": "code",
   "execution_count": 59,
   "metadata": {
    "collapsed": true
   },
   "outputs": [],
   "source": [
    "CI <- sqrt(max(lambda) / min(lambda))"
   ]
  },
  {
   "cell_type": "markdown",
   "metadata": {},
   "source": [
    "Индекс обусловленности матрицы, $CI = \\sqrt{\\lambda_{max}/\\lambda_{min}}$, равен"
   ]
  },
  {
   "cell_type": "code",
   "execution_count": 60,
   "metadata": {
    "collapsed": false
   },
   "outputs": [
    {
     "data": {
      "text/html": [
       "87480.3831649859"
      ],
      "text/latex": [
       "87480.3831649859"
      ],
      "text/markdown": [
       "87480.3831649859"
      ],
      "text/plain": [
       "[1] 87480.38"
      ]
     },
     "execution_count": 60,
     "metadata": {},
     "output_type": "execute_result"
    }
   ],
   "source": [
    "CI"
   ]
  },
  {
   "cell_type": "markdown",
   "metadata": {},
   "source": [
    "Корреляционная матрица:"
   ]
  },
  {
   "cell_type": "code",
   "execution_count": 61,
   "metadata": {
    "collapsed": false
   },
   "outputs": [
    {
     "data": {
      "text/html": [
       "<table>\n",
       "<thead><tr><th></th><th scope=col>speed</th><th scope=col>dist</th><th scope=col>speed2</th><th scope=col>speed3</th></tr></thead>\n",
       "<tbody>\n",
       "\t<tr><th scope=row>speed</th><td>1.0000000</td><td>0.8068949</td><td>0.9794765</td><td>0.9389237</td></tr>\n",
       "\t<tr><th scope=row>dist</th><td>0.8068949</td><td>1.0000000</td><td>0.8160295</td><td>0.8045771</td></tr>\n",
       "\t<tr><th scope=row>speed2</th><td>0.9794765</td><td>0.8160295</td><td>1.0000000</td><td>0.9884061</td></tr>\n",
       "\t<tr><th scope=row>speed3</th><td>0.9389237</td><td>0.8045771</td><td>0.9884061</td><td>1.0000000</td></tr>\n",
       "</tbody>\n",
       "</table>\n"
      ],
      "text/latex": [
       "\\begin{tabular}{r|llll}\n",
       "  & speed & dist & speed2 & speed3\\\\\n",
       "\\hline\n",
       "\tspeed & 1.0000000 & 0.8068949 & 0.9794765 & 0.9389237\\\\\n",
       "\tdist & 0.8068949 & 1.0000000 & 0.8160295 & 0.8045771\\\\\n",
       "\tspeed2 & 0.9794765 & 0.8160295 & 1.0000000 & 0.9884061\\\\\n",
       "\tspeed3 & 0.9389237 & 0.8045771 & 0.9884061 & 1.0000000\\\\\n",
       "\\end{tabular}\n"
      ],
      "text/markdown": [
       "1. 1\n",
       "2. 0.80689490068921\n",
       "3. 0.979476486746651\n",
       "4. 0.938923681699602\n",
       "5. 0.80689490068921\n",
       "6. 1\n",
       "7. 0.816029480297571\n",
       "8. 0.804577098741705\n",
       "9. 0.979476486746651\n",
       "10. 0.816029480297571\n",
       "11. 1\n",
       "12. 0.988406133860523\n",
       "13. 0.938923681699602\n",
       "14. 0.804577098741705\n",
       "15. 0.988406133860523\n",
       "16. 1\n",
       "\n",
       "\n"
      ],
      "text/plain": [
       "           speed      dist    speed2    speed3\n",
       "speed  1.0000000 0.8068949 0.9794765 0.9389237\n",
       "dist   0.8068949 1.0000000 0.8160295 0.8045771\n",
       "speed2 0.9794765 0.8160295 1.0000000 0.9884061\n",
       "speed3 0.9389237 0.8045771 0.9884061 1.0000000"
      ]
     },
     "execution_count": 61,
     "metadata": {},
     "output_type": "execute_result"
    }
   ],
   "source": [
    "cor(cars2)"
   ]
  },
  {
   "cell_type": "markdown",
   "metadata": {},
   "source": [
    "Коэффициенты вздутия дисперсии, VIF (variance inflation factors)\n",
    "\n",
    "$$VIF_x = \\frac{1}{1-R^2_x}$$\n",
    "\n",
    "Участвует в оценке дисперсии коэффициента:\n",
    "\n",
    "$$\\widehat{Var}(\\hat\\beta_x)=VIF_x \\cdot \\frac{\\hat\\sigma^2}{\\sum (x_i - \\bar x)^2}$$"
   ]
  },
  {
   "cell_type": "code",
   "execution_count": 62,
   "metadata": {
    "collapsed": false
   },
   "outputs": [
    {
     "data": {
      "text/html": [
       "<dl class=dl-horizontal>\n",
       "\t<dt>speed</dt>\n",
       "\t\t<dd>274.113060057539</dd>\n",
       "\t<dt>speed2</dt>\n",
       "\t\t<dd>1408.08838715322</dd>\n",
       "\t<dt>speed3</dt>\n",
       "\t\t<dd>483.057028412976</dd>\n",
       "</dl>\n"
      ],
      "text/latex": [
       "\\begin{description*}\n",
       "\\item[speed] 274.113060057539\n",
       "\\item[speed2] 1408.08838715322\n",
       "\\item[speed3] 483.057028412976\n",
       "\\end{description*}\n"
      ],
      "text/markdown": [
       "speed\n",
       ":   274.113060057539speed2\n",
       ":   1408.08838715322speed3\n",
       ":   483.057028412976\n",
       "\n"
      ],
      "text/plain": [
       "    speed    speed2    speed3 \n",
       " 274.1131 1408.0884  483.0570 "
      ]
     },
     "execution_count": 62,
     "metadata": {},
     "output_type": "execute_result"
    }
   ],
   "source": [
    "vif(model_0)"
   ]
  },
  {
   "cell_type": "code",
   "execution_count": 63,
   "metadata": {
    "collapsed": false
   },
   "outputs": [
    {
     "data": {
      "text/plain": [
       "\n",
       "Call:  glmnet(x = X, y = y) \n",
       "\n",
       "      Df   %Dev  Lambda\n",
       " [1,]  0 0.0000 20.8200\n",
       " [2,]  1 0.1131 18.9700\n",
       " [3,]  1 0.2069 17.2800\n",
       " [4,]  1 0.2848 15.7500\n",
       " [5,]  1 0.3495 14.3500\n",
       " [6,]  1 0.4033 13.0700\n",
       " [7,]  1 0.4479 11.9100\n",
       " [8,]  1 0.4849 10.8500\n",
       " [9,]  1 0.5156  9.8900\n",
       "[10,]  2 0.5414  9.0110\n",
       "[11,]  2 0.5628  8.2110\n",
       "[12,]  2 0.5805  7.4810\n",
       "[13,]  2 0.5953  6.8170\n",
       "[14,]  2 0.6075  6.2110\n",
       "[15,]  2 0.6177  5.6590\n",
       "[16,]  2 0.6261  5.1570\n",
       "[17,]  2 0.6331  4.6980\n",
       "[18,]  2 0.6389  4.2810\n",
       "[19,]  2 0.6437  3.9010\n",
       "[20,]  3 0.6478  3.5540\n",
       "[21,]  3 0.6511  3.2380\n",
       "[22,]  3 0.6539  2.9510\n",
       "[23,]  3 0.6571  2.6890\n",
       "[24,]  3 0.6597  2.4500\n",
       "[25,]  2 0.6618  2.2320\n",
       "[26,]  2 0.6632  2.0340\n",
       "[27,]  2 0.6643  1.8530\n",
       "[28,]  2 0.6652  1.6890\n",
       "[29,]  2 0.6660  1.5390\n",
       "[30,]  2 0.6666  1.4020\n",
       "[31,]  2 0.6671  1.2770\n",
       "[32,]  2 0.6676  1.1640\n",
       "[33,]  2 0.6679  1.0600\n",
       "[34,]  2 0.6682  0.9662\n",
       "[35,]  2 0.6685  0.8804\n",
       "[36,]  2 0.6687  0.8022\n",
       "[37,]  2 0.6689  0.7309\n",
       "[38,]  2 0.6690  0.6660\n",
       "[39,]  2 0.6691  0.6068\n",
       "[40,]  2 0.6692  0.5529\n",
       "[41,]  2 0.6693  0.5038\n",
       "[42,]  2 0.6694  0.4590\n",
       "[43,]  2 0.6694  0.4183\n",
       "[44,]  2 0.6695  0.3811\n",
       "[45,]  2 0.6695  0.3473\n",
       "[46,]  2 0.6695  0.3164\n",
       "[47,]  2 0.6696  0.2883\n",
       "[48,]  2 0.6696  0.2627\n",
       "[49,]  2 0.6696  0.2393\n",
       "[50,]  2 0.6696  0.2181\n",
       "[51,]  2 0.6696  0.1987\n",
       "[52,]  2 0.6697  0.1811\n",
       "[53,]  2 0.6697  0.1650\n",
       "[54,]  2 0.6697  0.1503\n",
       "[55,]  2 0.6697  0.1370"
      ]
     },
     "execution_count": 63,
     "metadata": {},
     "output_type": "execute_result"
    }
   ],
   "source": [
    "y <- cars$dist\n",
    "lasso <- glmnet(X, y)\n",
    "lasso"
   ]
  },
  {
   "cell_type": "code",
   "execution_count": 64,
   "metadata": {
    "collapsed": false
   },
   "outputs": [
    {
     "data": {
      "image/png": "[encoded data removed]",
      "text/plain": [
       "plot without title"
      ]
     },
     "metadata": {
      "image/svg+xml": {
       "isolated": true
      }
     },
     "output_type": "display_data"
    }
   ],
   "source": [
    "plot(lasso, xvar = \"dev\")"
   ]
  },
  {
   "cell_type": "code",
   "execution_count": 65,
   "metadata": {
    "collapsed": false
   },
   "outputs": [
    {
     "data": {
      "image/png": "[encoded data removed]",
      "text/plain": [
       "plot without title"
      ]
     },
     "metadata": {
      "image/svg+xml": {
       "isolated": true
      }
     },
     "output_type": "display_data"
    }
   ],
   "source": [
    "plot(lasso, xvar = \"dev\")"
   ]
  },
  {
   "cell_type": "markdown",
   "metadata": {},
   "source": [
    "Оценки для конкретных $\\lambda$:"
   ]
  },
  {
   "cell_type": "code",
   "execution_count": 66,
   "metadata": {
    "collapsed": false
   },
   "outputs": [
    {
     "data": {
      "text/plain": [
       "5 x 2 sparse Matrix of class \"dgCMatrix\"\n",
       "                       1           2\n",
       "(Intercept) -1.234666439 0.542544545\n",
       "(Intercept)  .           .          \n",
       "speed        2.108053662 2.028612210\n",
       "speed2       .           .          \n",
       "speed3       0.002397209 0.002284228"
      ]
     },
     "execution_count": 66,
     "metadata": {},
     "output_type": "execute_result"
    }
   ],
   "source": [
    "coef(lasso, s = c(0.1, 1))"
   ]
  },
  {
   "cell_type": "markdown",
   "metadata": {},
   "source": [
    "Построим прогнозы для скорости 10 (квадрат скорости - 100, куб - 1000)"
   ]
  },
  {
   "cell_type": "code",
   "execution_count": 67,
   "metadata": {
    "collapsed": false
   },
   "outputs": [
    {
     "data": {
      "text/html": [
       "<table>\n",
       "<thead><tr><th scope=col>1</th><th scope=col>2</th></tr></thead>\n",
       "<tbody>\n",
       "\t<tr><td>22.24308</td><td>23.11289</td></tr>\n",
       "</tbody>\n",
       "</table>\n"
      ],
      "text/latex": [
       "\\begin{tabular}{ll}\n",
       " 1 & 2\\\\\n",
       "\\hline\n",
       "\t 22.24308 & 23.11289\\\\\n",
       "\\end{tabular}\n"
      ],
      "text/markdown": [
       "1. 22.2430793756493\n",
       "2. 23.1128943615308\n",
       "\n",
       "\n"
      ],
      "text/plain": [
       "            1        2\n",
       "[1,] 22.24308 23.11289"
      ]
     },
     "execution_count": 67,
     "metadata": {},
     "output_type": "execute_result"
    }
   ],
   "source": [
    "m <- matrix(c(1, 10, 100, 1000), nrow = 1)\n",
    "predict(lasso, newx = m, s = c(0.1, 1))"
   ]
  },
  {
   "cell_type": "markdown",
   "metadata": {},
   "source": [
    "Подберём наилучшее $\\lambda$ с помощью кросс-валидации:"
   ]
  },
  {
   "cell_type": "code",
   "execution_count": 68,
   "metadata": {
    "collapsed": false
   },
   "outputs": [
    {
     "data": {
      "image/png": "[encoded data removed]",
      "text/plain": [
       "plot without title"
      ]
     },
     "metadata": {
      "image/svg+xml": {
       "isolated": true
      }
     },
     "output_type": "display_data"
    }
   ],
   "source": [
    "cv_lasso <- cv.glmnet(X, y)\n",
    "plot(cv_lasso)"
   ]
  },
  {
   "cell_type": "markdown",
   "metadata": {},
   "source": [
    "Вертикальными пунктирами на графике - две оценки $\\hat \\lambda$: \n",
    "\n",
    "* Слева $\\hat\\lambda_{min}$ - минимизирующая $RSS_{CV}$\n",
    "* Справа $\\hat\\lambda_{1se}$ - более консервативная"
   ]
  },
  {
   "cell_type": "code",
   "execution_count": 69,
   "metadata": {
    "collapsed": false
   },
   "outputs": [
    {
     "data": {
      "text/html": [
       "0.150317198284397"
      ],
      "text/latex": [
       "0.150317198284397"
      ],
      "text/markdown": [
       "0.150317198284397"
      ],
      "text/plain": [
       "[1] 0.1503172"
      ]
     },
     "execution_count": 69,
     "metadata": {},
     "output_type": "execute_result"
    },
    {
     "data": {
      "text/html": [
       "8.21074207614999"
      ],
      "text/latex": [
       "8.21074207614999"
      ],
      "text/markdown": [
       "8.21074207614999"
      ],
      "text/plain": [
       "[1] 8.210742"
      ]
     },
     "execution_count": 69,
     "metadata": {},
     "output_type": "execute_result"
    }
   ],
   "source": [
    "cv_lasso$lambda.min\n",
    "cv_lasso$lambda.1se"
   ]
  },
  {
   "cell_type": "markdown",
   "metadata": {},
   "source": [
    "Коэффициенты для $\\hat\\lambda_{min}$:"
   ]
  },
  {
   "cell_type": "code",
   "execution_count": 70,
   "metadata": {
    "collapsed": false
   },
   "outputs": [
    {
     "data": {
      "text/plain": [
       "5 x 1 sparse Matrix of class \"dgCMatrix\"\n",
       "                       1\n",
       "(Intercept) -1.209873240\n",
       "(Intercept)  .          \n",
       "speed        2.107105109\n",
       "speed2       .          \n",
       "speed3       0.002395131"
      ]
     },
     "execution_count": 70,
     "metadata": {},
     "output_type": "execute_result"
    }
   ],
   "source": [
    "coef(cv_lasso, s = \"lambda.min\")"
   ]
  },
  {
   "cell_type": "markdown",
   "metadata": {},
   "source": [
    "Прогнозы для $\\hat\\lambda_{min}$:"
   ]
  },
  {
   "cell_type": "code",
   "execution_count": 71,
   "metadata": {
    "collapsed": false
   },
   "outputs": [
    {
     "data": {
      "text/html": [
       "<table>\n",
       "<thead><tr><th scope=col>1</th></tr></thead>\n",
       "<tbody>\n",
       "\t<tr><td>22.25631</td></tr>\n",
       "</tbody>\n",
       "</table>\n"
      ],
      "text/latex": [
       "\\begin{tabular}{l}\n",
       " 1\\\\\n",
       "\\hline\n",
       "\t 22.25631\\\\\n",
       "\\end{tabular}\n"
      ],
      "text/markdown": [
       "22.2563091400098"
      ],
      "text/plain": [
       "            1\n",
       "[1,] 22.25631"
      ]
     },
     "execution_count": 71,
     "metadata": {},
     "output_type": "execute_result"
    }
   ],
   "source": [
    "predict(cv_lasso, newx = m, s = \"lambda.min\")"
   ]
  },
  {
   "cell_type": "markdown",
   "metadata": {},
   "source": [
    "Ridge оценивается полностью аналогично, только с опцией `alpha = 0`:"
   ]
  },
  {
   "cell_type": "code",
   "execution_count": 72,
   "metadata": {
    "collapsed": false
   },
   "outputs": [
    {
     "data": {
      "text/plain": [
       "\n",
       "Call:  glmnet(x = X, y = y, alpha = 0) \n",
       "\n",
       "       Df      %Dev    Lambda\n",
       "  [1,]  3 3.968e-36 20820.000\n",
       "  [2,]  3 5.253e-03 18970.000\n",
       "  [3,]  3 5.761e-03 17280.000\n",
       "  [4,]  3 6.319e-03 15750.000\n",
       "  [5,]  3 6.930e-03 14350.000\n",
       "  [6,]  3 7.600e-03 13070.000\n",
       "  [7,]  3 8.334e-03 11910.000\n",
       "  [8,]  3 9.139e-03 10850.000\n",
       "  [9,]  3 1.002e-02  9890.000\n",
       " [10,]  3 1.098e-02  9011.000\n",
       " [11,]  3 1.204e-02  8211.000\n",
       " [12,]  3 1.320e-02  7481.000\n",
       " [13,]  3 1.446e-02  6817.000\n",
       " [14,]  3 1.585e-02  6211.000\n",
       " [15,]  3 1.736e-02  5659.000\n",
       " [16,]  3 1.902e-02  5157.000\n",
       " [17,]  3 2.083e-02  4698.000\n",
       " [18,]  3 2.281e-02  4281.000\n",
       " [19,]  3 2.497e-02  3901.000\n",
       " [20,]  3 2.733e-02  3554.000\n",
       " [21,]  3 2.990e-02  3238.000\n",
       " [22,]  3 3.271e-02  2951.000\n",
       " [23,]  3 3.577e-02  2689.000\n",
       " [24,]  3 3.911e-02  2450.000\n",
       " [25,]  3 4.273e-02  2232.000\n",
       " [26,]  3 4.668e-02  2034.000\n",
       " [27,]  3 5.097e-02  1853.000\n",
       " [28,]  3 5.562e-02  1689.000\n",
       " [29,]  3 6.067e-02  1539.000\n",
       " [30,]  3 6.614e-02  1402.000\n",
       " [31,]  3 7.206e-02  1277.000\n",
       " [32,]  3 7.845e-02  1164.000\n",
       " [33,]  3 8.536e-02  1060.000\n",
       " [34,]  3 9.279e-02   966.200\n",
       " [35,]  3 1.008e-01   880.400\n",
       " [36,]  3 1.094e-01   802.200\n",
       " [37,]  3 1.186e-01   730.900\n",
       " [38,]  3 1.284e-01   666.000\n",
       " [39,]  3 1.389e-01   606.800\n",
       " [40,]  3 1.501e-01   552.900\n",
       " [41,]  3 1.620e-01   503.800\n",
       " [42,]  3 1.745e-01   459.000\n",
       " [43,]  3 1.878e-01   418.300\n",
       " [44,]  3 2.017e-01   381.100\n",
       " [45,]  3 2.163e-01   347.300\n",
       " [46,]  3 2.316e-01   316.400\n",
       " [47,]  3 2.474e-01   288.300\n",
       " [48,]  3 2.639e-01   262.700\n",
       " [49,]  3 2.809e-01   239.300\n",
       " [50,]  3 2.983e-01   218.100\n",
       " [51,]  3 3.161e-01   198.700\n",
       " [52,]  3 3.342e-01   181.100\n",
       " [53,]  3 3.525e-01   165.000\n",
       " [54,]  3 3.709e-01   150.300\n",
       " [55,]  3 3.893e-01   137.000\n",
       " [56,]  3 4.076e-01   124.800\n",
       " [57,]  3 4.257e-01   113.700\n",
       " [58,]  3 4.435e-01   103.600\n",
       " [59,]  3 4.608e-01    94.400\n",
       " [60,]  3 4.777e-01    86.020\n",
       " [61,]  3 4.939e-01    78.380\n",
       " [62,]  3 5.094e-01    71.410\n",
       " [63,]  3 5.242e-01    65.070\n",
       " [64,]  3 5.382e-01    59.290\n",
       " [65,]  3 5.513e-01    54.020\n",
       " [66,]  3 5.635e-01    49.220\n",
       " [67,]  3 5.749e-01    44.850\n",
       " [68,]  3 5.854e-01    40.870\n",
       " [69,]  3 5.949e-01    37.230\n",
       " [70,]  3 6.037e-01    33.930\n",
       " [71,]  3 6.116e-01    30.910\n",
       " [72,]  3 6.187e-01    28.170\n",
       " [73,]  3 6.251e-01    25.660\n",
       " [74,]  3 6.308e-01    23.380\n",
       " [75,]  3 6.359e-01    21.310\n",
       " [76,]  3 6.403e-01    19.410\n",
       " [77,]  3 6.442e-01    17.690\n",
       " [78,]  3 6.477e-01    16.120\n",
       " [79,]  3 6.507e-01    14.690\n",
       " [80,]  3 6.533e-01    13.380\n",
       " [81,]  3 6.556e-01    12.190\n",
       " [82,]  3 6.575e-01    11.110\n",
       " [83,]  3 6.592e-01    10.120\n",
       " [84,]  3 6.606e-01     9.223\n",
       " [85,]  3 6.619e-01     8.404\n",
       " [86,]  3 6.629e-01     7.657\n",
       " [87,]  3 6.638e-01     6.977\n",
       " [88,]  3 6.646e-01     6.357\n",
       " [89,]  3 6.652e-01     5.793\n",
       " [90,]  3 6.658e-01     5.278\n",
       " [91,]  3 6.663e-01     4.809\n",
       " [92,]  3 6.667e-01     4.382\n",
       " [93,]  3 6.670e-01     3.993\n",
       " [94,]  3 6.673e-01     3.638\n",
       " [95,]  3 6.675e-01     3.315\n",
       " [96,]  3 6.677e-01     3.020\n",
       " [97,]  3 6.679e-01     2.752\n",
       " [98,]  3 6.681e-01     2.507\n",
       " [99,]  3 6.682e-01     2.285\n",
       "[100,]  3 6.683e-01     2.082"
      ]
     },
     "execution_count": 72,
     "metadata": {},
     "output_type": "execute_result"
    }
   ],
   "source": [
    "ridge <- glmnet(X, y, alpha = 0)\n",
    "ridge"
   ]
  }
 ],
 "metadata": {
  "kernelspec": {
   "display_name": "R",
   "language": "R",
   "name": "ir"
  },
  "language_info": {
   "codemirror_mode": "r",
   "file_extension": ".r",
   "mimetype": "text/x-r-source",
   "name": "R",
   "pygments_lexer": "r",
   "version": "3.2.2"
  }
 },
 "nbformat": 4,
 "nbformat_minor": 0
}
